{
  "nbformat": 4,
  "nbformat_minor": 0,
  "metadata": {
    "colab": {
      "provenance": []
    },
    "kernelspec": {
      "name": "python3",
      "display_name": "Python 3"
    },
    "language_info": {
      "name": "python"
    }
  },
  "cells": [
    {
      "cell_type": "code",
      "execution_count": 1,
      "metadata": {
        "id": "KgIrH2EWbW4F"
      },
      "outputs": [],
      "source": [
        "import pandas as pd"
      ]
    },
    {
      "cell_type": "code",
      "source": [
        "df=pd.read_csv(\"/content/data_2.csv\")"
      ],
      "metadata": {
        "id": "VsOMqEPSb6NC"
      },
      "execution_count": 2,
      "outputs": []
    },
    {
      "cell_type": "code",
      "source": [
        "df.columns"
      ],
      "metadata": {
        "colab": {
          "base_uri": "https://localhost:8080/"
        },
        "id": "MbpHnx04cANi",
        "outputId": "981051cf-1d3e-4977-e7ee-922d0b913211"
      },
      "execution_count": 3,
      "outputs": [
        {
          "output_type": "execute_result",
          "data": {
            "text/plain": [
              "Index(['engine_displacement', 'num_cylinders', 'horsepower', 'vehicle_weight',\n",
              "       'acceleration', 'model_year', 'origin', 'fuel_type', 'drivetrain',\n",
              "       'num_doors', 'fuel_efficiency_mpg'],\n",
              "      dtype='object')"
            ]
          },
          "metadata": {},
          "execution_count": 3
        }
      ]
    },
    {
      "cell_type": "code",
      "source": [
        "df = df[['engine_displacement',  'horsepower', 'vehicle_weight',\n",
        "        'model_year', 'fuel_efficiency_mpg']]"
      ],
      "metadata": {
        "id": "SVO6jf3TcBPF"
      },
      "execution_count": 4,
      "outputs": []
    },
    {
      "cell_type": "code",
      "source": [
        "df.dtypes"
      ],
      "metadata": {
        "colab": {
          "base_uri": "https://localhost:8080/",
          "height": 241
        },
        "id": "tST40hOdcSe4",
        "outputId": "88d00748-8c0b-4f60-e89c-1ab5850115e0"
      },
      "execution_count": 6,
      "outputs": [
        {
          "output_type": "execute_result",
          "data": {
            "text/plain": [
              "engine_displacement      int64\n",
              "horsepower             float64\n",
              "vehicle_weight         float64\n",
              "model_year               int64\n",
              "fuel_efficiency_mpg    float64\n",
              "dtype: object"
            ],
            "text/html": [
              "<div>\n",
              "<style scoped>\n",
              "    .dataframe tbody tr th:only-of-type {\n",
              "        vertical-align: middle;\n",
              "    }\n",
              "\n",
              "    .dataframe tbody tr th {\n",
              "        vertical-align: top;\n",
              "    }\n",
              "\n",
              "    .dataframe thead th {\n",
              "        text-align: right;\n",
              "    }\n",
              "</style>\n",
              "<table border=\"1\" class=\"dataframe\">\n",
              "  <thead>\n",
              "    <tr style=\"text-align: right;\">\n",
              "      <th></th>\n",
              "      <th>0</th>\n",
              "    </tr>\n",
              "  </thead>\n",
              "  <tbody>\n",
              "    <tr>\n",
              "      <th>engine_displacement</th>\n",
              "      <td>int64</td>\n",
              "    </tr>\n",
              "    <tr>\n",
              "      <th>horsepower</th>\n",
              "      <td>float64</td>\n",
              "    </tr>\n",
              "    <tr>\n",
              "      <th>vehicle_weight</th>\n",
              "      <td>float64</td>\n",
              "    </tr>\n",
              "    <tr>\n",
              "      <th>model_year</th>\n",
              "      <td>int64</td>\n",
              "    </tr>\n",
              "    <tr>\n",
              "      <th>fuel_efficiency_mpg</th>\n",
              "      <td>float64</td>\n",
              "    </tr>\n",
              "  </tbody>\n",
              "</table>\n",
              "</div><br><label><b>dtype:</b> object</label>"
            ]
          },
          "metadata": {},
          "execution_count": 6
        }
      ]
    },
    {
      "cell_type": "code",
      "source": [
        "df.isna().sum()"
      ],
      "metadata": {
        "colab": {
          "base_uri": "https://localhost:8080/",
          "height": 241
        },
        "id": "i6vFtHqecXCM",
        "outputId": "c54ae0d3-4a37-4f74-9a46-8091fcbda0ce"
      },
      "execution_count": 7,
      "outputs": [
        {
          "output_type": "execute_result",
          "data": {
            "text/plain": [
              "engine_displacement      0\n",
              "horsepower             708\n",
              "vehicle_weight           0\n",
              "model_year               0\n",
              "fuel_efficiency_mpg      0\n",
              "dtype: int64"
            ],
            "text/html": [
              "<div>\n",
              "<style scoped>\n",
              "    .dataframe tbody tr th:only-of-type {\n",
              "        vertical-align: middle;\n",
              "    }\n",
              "\n",
              "    .dataframe tbody tr th {\n",
              "        vertical-align: top;\n",
              "    }\n",
              "\n",
              "    .dataframe thead th {\n",
              "        text-align: right;\n",
              "    }\n",
              "</style>\n",
              "<table border=\"1\" class=\"dataframe\">\n",
              "  <thead>\n",
              "    <tr style=\"text-align: right;\">\n",
              "      <th></th>\n",
              "      <th>0</th>\n",
              "    </tr>\n",
              "  </thead>\n",
              "  <tbody>\n",
              "    <tr>\n",
              "      <th>engine_displacement</th>\n",
              "      <td>0</td>\n",
              "    </tr>\n",
              "    <tr>\n",
              "      <th>horsepower</th>\n",
              "      <td>708</td>\n",
              "    </tr>\n",
              "    <tr>\n",
              "      <th>vehicle_weight</th>\n",
              "      <td>0</td>\n",
              "    </tr>\n",
              "    <tr>\n",
              "      <th>model_year</th>\n",
              "      <td>0</td>\n",
              "    </tr>\n",
              "    <tr>\n",
              "      <th>fuel_efficiency_mpg</th>\n",
              "      <td>0</td>\n",
              "    </tr>\n",
              "  </tbody>\n",
              "</table>\n",
              "</div><br><label><b>dtype:</b> int64</label>"
            ]
          },
          "metadata": {},
          "execution_count": 7
        }
      ]
    },
    {
      "cell_type": "code",
      "source": [
        "median_val = df[\"horsepower\"].median()\n",
        "median_val"
      ],
      "metadata": {
        "colab": {
          "base_uri": "https://localhost:8080/"
        },
        "id": "R6vBUt-Rccud",
        "outputId": "35373410-c447-4829-a1bb-0320cec339b2"
      },
      "execution_count": 9,
      "outputs": [
        {
          "output_type": "execute_result",
          "data": {
            "text/plain": [
              "149.0"
            ]
          },
          "metadata": {},
          "execution_count": 9
        }
      ]
    },
    {
      "cell_type": "code",
      "source": [
        "import numpy as np\n",
        "np.random.seed(42)\n",
        "\n",
        "n = len(df)\n",
        "\n",
        "n_val = int(0.2 * n)\n",
        "n_test = int(0.2 * n)\n",
        "n_train = n - (n_val + n_test)\n",
        "\n",
        "idx = np.arange(n)\n",
        "np.random.shuffle(idx)\n",
        "\n",
        "df_shuffled = df.iloc[idx]\n",
        "\n",
        "df_train = df_shuffled.iloc[:n_train].copy()\n",
        "df_val = df_shuffled.iloc[n_train:n_train+n_val].copy()\n",
        "df_test = df_shuffled.iloc[n_train+n_val:].copy()"
      ],
      "metadata": {
        "id": "3ZJOTFUNc0oS"
      },
      "execution_count": 10,
      "outputs": []
    },
    {
      "cell_type": "code",
      "source": [],
      "metadata": {
        "id": "gWuJ2g_vdkUT"
      },
      "execution_count": 13,
      "outputs": []
    },
    {
      "cell_type": "code",
      "source": [],
      "metadata": {
        "id": "7-LMPu2Yl7_t"
      },
      "execution_count": null,
      "outputs": []
    },
    {
      "cell_type": "code",
      "source": [
        "def train_linear_regression(X, y):\n",
        "    ones = np.ones(X.shape[0])\n",
        "    X = np.column_stack([ones, X])\n",
        "\n",
        "    XTX = X.T.dot(X)\n",
        "    XTX_inv = np.linalg.inv(XTX)\n",
        "    w = XTX_inv.dot(X.T).dot(y)\n",
        "\n",
        "    return w[0], w[1:]"
      ],
      "metadata": {
        "id": "H8_8jnm9kWgl"
      },
      "execution_count": 19,
      "outputs": []
    },
    {
      "cell_type": "code",
      "source": [
        "base = ['engine_displacement', 'horsepower', 'vehicle_weight', 'model_year']\n",
        "def prepare_X(df):\n",
        "    df_num = df[base]\n",
        "    df_num = df_num.fillna(0)\n",
        "    X = df_num.values\n",
        "    return X\n",
        "target = 'fuel_efficiency_mpg'\n",
        "y_train = df_train[target]\n",
        "y_val = df_val[target]"
      ],
      "metadata": {
        "id": "gZqXIcsJlZdE"
      },
      "execution_count": 20,
      "outputs": []
    },
    {
      "cell_type": "code",
      "source": [
        "X_train = prepare_X(df_train)\n",
        "w_0, w = train_linear_regression(X_train, y_train)"
      ],
      "metadata": {
        "id": "X2jCnEjrlefy"
      },
      "execution_count": 22,
      "outputs": []
    },
    {
      "cell_type": "code",
      "source": [
        "y_pred = w_0 + X_train.dot(w)"
      ],
      "metadata": {
        "id": "r1m5msAbl2gl"
      },
      "execution_count": 23,
      "outputs": []
    },
    {
      "cell_type": "code",
      "source": [
        "\n",
        "def rmse(y, y_pred):\n",
        "    error = y_pred - y\n",
        "    mse = (error ** 2).mean()\n",
        "    return np.sqrt(mse)\n",
        "rmse(y_train, y_pred)\n"
      ],
      "metadata": {
        "colab": {
          "base_uri": "https://localhost:8080/"
        },
        "id": "jQrtatDKnABp",
        "outputId": "ccd577ea-9a70-4f17-c2f8-6df49afbeb0b"
      },
      "execution_count": 24,
      "outputs": [
        {
          "output_type": "execute_result",
          "data": {
            "text/plain": [
              "np.float64(0.5202614265099076)"
            ]
          },
          "metadata": {},
          "execution_count": 24
        }
      ]
    },
    {
      "cell_type": "code",
      "source": [
        "mean_hp = df_train['horsepower'].mean()\n",
        "base = ['engine_displacement', 'horsepower', 'vehicle_weight', 'model_year']\n",
        "def prepare_X(df):\n",
        "    df_num = df[base]\n",
        "    df_num = df_num.fillna(mean_hp)\n",
        "    X = df_num.values\n",
        "    return X\n",
        "target = 'fuel_efficiency_mpg'\n",
        "y_train = df_train[target]\n",
        "y_val = df_val[target]"
      ],
      "metadata": {
        "id": "DaKMpIJjnD4x"
      },
      "execution_count": 25,
      "outputs": []
    },
    {
      "cell_type": "code",
      "source": [
        "X_train = prepare_X(df_train)\n",
        "w_0, w = train_linear_regression(X_train, y_train)"
      ],
      "metadata": {
        "id": "RtrDPlXunMLR"
      },
      "execution_count": 26,
      "outputs": []
    },
    {
      "cell_type": "code",
      "source": [
        "y_pred = w_0 + X_train.dot(w)"
      ],
      "metadata": {
        "id": "cmzQKp1GnMIS"
      },
      "execution_count": 27,
      "outputs": []
    },
    {
      "cell_type": "code",
      "source": [
        "rmse(y_train, y_pred)"
      ],
      "metadata": {
        "colab": {
          "base_uri": "https://localhost:8080/"
        },
        "id": "k-Zy-XIfnMFZ",
        "outputId": "68908c68-1ba0-4f7e-bbf4-2cacdea042b9"
      },
      "execution_count": 28,
      "outputs": [
        {
          "output_type": "execute_result",
          "data": {
            "text/plain": [
              "np.float64(0.4624412137959964)"
            ]
          },
          "metadata": {},
          "execution_count": 28
        }
      ]
    },
    {
      "cell_type": "code",
      "source": [],
      "metadata": {
        "id": "IlndEnK8nMCs"
      },
      "execution_count": null,
      "outputs": []
    },
    {
      "cell_type": "code",
      "source": [
        "import pandas as pd\n",
        "import numpy as np\n",
        "from sklearn.model_selection import train_test_split\n",
        "from sklearn.linear_model import LinearRegression\n",
        "from sklearn.metrics import mean_squared_error\n",
        "\n",
        "df = df.sample(frac=1, random_state=42).reset_index(drop=True)\n",
        "\n",
        "# 4. Split into train (60%), val (20%), test (20%)\n",
        "df_full_train, df_temp = train_test_split(df, test_size=0.4, random_state=42)\n",
        "df_val, df_test = train_test_split(df_temp, test_size=0.5, random_state=42)\n",
        "\n",
        "# 5. Reset indexes\n",
        "df_full_train = df_full_train.reset_index(drop=True)\n",
        "df_val = df_val.reset_index(drop=True)\n",
        "df_test = df_test.reset_index(drop=True)\n",
        "\n",
        "# 6. Separate target and features\n",
        "features = ['engine_displacement', 'horsepower', 'vehicle_weight', 'model_year']\n",
        "target = 'fuel_efficiency_mpg'\n",
        "\n",
        "# ----------------------------------------\n",
        "# Option 1: Fill missing 'horsepower' with 0\n",
        "# ----------------------------------------\n",
        "df_train_0 = df_full_train.copy()\n",
        "df_val_0 = df_val.copy()\n",
        "\n",
        "df_train_0['horsepower'] = df_train_0['horsepower'].fillna(0)\n",
        "df_val_0['horsepower'] = df_val_0['horsepower'].fillna(0)\n",
        "\n",
        "# Train model\n",
        "model_0 = LinearRegression()\n",
        "model_0.fit(df_train_0[features], df_train_0[target])\n",
        "\n",
        "# Predict and evaluate\n",
        "y_pred_0 = model_0.predict(df_val_0[features])\n",
        "rmse_0 = np.sqrt(mean_squared_error(df_val_0[target], y_pred_0))\n",
        "rmse_0 = round(rmse_0, 2)\n",
        "\n",
        "# ----------------------------------------\n",
        "# Option 2: Fill missing 'horsepower' with mean (from train only)\n",
        "# ----------------------------------------\n",
        "df_train_mean = df_full_train.copy()\n",
        "df_val_mean = df_val.copy()\n",
        "\n",
        "mean_hp = df_train_mean['horsepower'].mean()\n",
        "df_train_mean['horsepower'] = df_train_mean['horsepower'].fillna(mean_hp)\n",
        "df_val_mean['horsepower'] = df_val_mean['horsepower'].fillna(mean_hp)\n",
        "\n",
        "# Train model\n",
        "model_mean = LinearRegression()\n",
        "model_mean.fit(df_train_mean[features], df_train_mean[target])\n",
        "\n",
        "# Predict and evaluate\n",
        "y_pred_mean = model_mean.predict(df_val_mean[features])\n",
        "rmse_mean = np.sqrt(mean_squared_error(df_val_mean[target], y_pred_mean))\n",
        "rmse_mean = round(rmse_mean, 2)\n",
        "\n",
        "# ----------------------------------------\n",
        "# Print results\n",
        "# ----------------------------------------\n",
        "print(f\"RMSE (fill with 0): {rmse_0}\")\n",
        "print(f\"RMSE (fill with mean): {rmse_mean}\")\n",
        "\n",
        "if rmse_0 < rmse_mean:\n",
        "    print(\"Better Option: Fill with 0\")\n",
        "elif rmse_0 > rmse_mean:\n",
        "    print(\"Better Option: Fill with mean\")\n",
        "else:\n",
        "    print(\"Both are equally good\")"
      ],
      "metadata": {
        "colab": {
          "base_uri": "https://localhost:8080/"
        },
        "id": "oqIHa7yLnL__",
        "outputId": "76f97cb6-202b-41b7-997c-66ab4ae5430d"
      },
      "execution_count": 29,
      "outputs": [
        {
          "output_type": "stream",
          "name": "stdout",
          "text": [
            "RMSE (fill with 0): 0.51\n",
            "RMSE (fill with mean): 0.46\n",
            "Better Option: Fill with mean\n"
          ]
        }
      ]
    },
    {
      "cell_type": "code",
      "source": [
        "import pandas as pd\n",
        "import numpy as np\n",
        "from sklearn.model_selection import train_test_split\n",
        "from sklearn.metrics import mean_squared_error\n",
        "\n",
        "# Load data\n",
        "url = 'https://raw.githubusercontent.com/alexeygrigorev/datasets/master/car_fuel_efficiency.csv'\n",
        "df = pd.read_csv(url)\n",
        "\n",
        "# Keep selected columns\n",
        "cols = ['engine_displacement', 'horsepower', 'vehicle_weight', 'model_year', 'fuel_efficiency_mpg']\n",
        "df = df[cols]\n",
        "\n",
        "# Shuffle and split\n",
        "df = df.sample(frac=1, random_state=42).reset_index(drop=True)\n",
        "df_train, df_temp = train_test_split(df, test_size=0.4, random_state=42)\n",
        "df_val, df_test = train_test_split(df_temp, test_size=0.5, random_state=42)\n",
        "\n",
        "df_train = df_train.reset_index(drop=True)\n",
        "df_val = df_val.reset_index(drop=True)\n",
        "\n",
        "# Features and target\n",
        "base = ['engine_displacement', 'horsepower', 'vehicle_weight', 'model_year']\n",
        "target = 'fuel_efficiency_mpg'\n",
        "\n",
        "# Prepare X matrix\n",
        "def prepare_X(df):\n",
        "    df_num = df[base].copy()\n",
        "    df_num = df_num.fillna(0)\n",
        "    X = df_num.values\n",
        "    return X\n",
        "\n",
        "# Custom regularized training function\n",
        "def train_regularized_linear_regression(X, y, r):\n",
        "    ones = np.ones(X.shape[0])\n",
        "    X = np.column_stack([ones, X])\n",
        "\n",
        "    XTX = X.T.dot(X)\n",
        "    reg_matrix = r * np.eye(XTX.shape[0])\n",
        "    XTX = XTX + reg_matrix\n",
        "\n",
        "    XTX_inv = np.linalg.inv(XTX)\n",
        "    w = XTX_inv.dot(X.T).dot(y)\n",
        "\n",
        "    return w[0], w[1:]\n",
        "\n",
        "# RMSE function\n",
        "def rmse(y, y_pred):\n",
        "    return np.sqrt(mean_squared_error(y, y_pred))\n",
        "\n",
        "# Prepare data\n",
        "X_train = prepare_X(df_train)\n",
        "X_val = prepare_X(df_val)\n",
        "y_train = df_train[target].values\n",
        "y_val = df_val[target].values\n",
        "\n",
        "# Try different r values\n",
        "r_values = [0, 0.01, 0.1, 1, 5, 10, 100]\n",
        "scores = {}\n",
        "\n",
        "for r in r_values:\n",
        "    w0, w = train_regularized_linear_regression(X_train, y_train, r)\n",
        "    y_pred = w0 + X_val.dot(w)\n",
        "    score = rmse(y_val, y_pred)\n",
        "    scores[r] = round(score, 2)\n",
        "    print(f\"r = {r} => RMSE = {round(score, 2)}\")\n",
        "\n",
        "# Find best r\n",
        "best_r = min(scores, key=lambda k: (scores[k], k))  # Lowest RMSE, tie breaker: smallest r\n",
        "print(f\"\\nBest r: {best_r}\")\n"
      ],
      "metadata": {
        "colab": {
          "base_uri": "https://localhost:8080/"
        },
        "id": "pcNEUavCnL9p",
        "outputId": "158d1167-11a6-454f-b672-bc08a71f34ce"
      },
      "execution_count": 30,
      "outputs": [
        {
          "output_type": "stream",
          "name": "stdout",
          "text": [
            "r = 0 => RMSE = 0.51\n",
            "r = 0.01 => RMSE = 0.51\n",
            "r = 0.1 => RMSE = 0.51\n",
            "r = 1 => RMSE = 0.52\n",
            "r = 5 => RMSE = 0.52\n",
            "r = 10 => RMSE = 0.52\n",
            "r = 100 => RMSE = 0.52\n",
            "\n",
            "Best r: 0\n"
          ]
        }
      ]
    },
    {
      "cell_type": "code",
      "source": [
        "def train_linear_regression_reg(X, y, r=0.0):\n",
        "    ones = np.ones(X.shape[0])\n",
        "    X = np.column_stack([ones, X])\n",
        "\n",
        "    XTX = X.T.dot(X)\n",
        "    reg = r * np.eye(XTX.shape[0])\n",
        "    XTX = XTX + reg\n",
        "\n",
        "    XTX_inv = np.linalg.inv(XTX)\n",
        "    w = XTX_inv.dot(X.T).dot(y)\n",
        "\n",
        "    return w[0], w[1:]\n",
        "\n",
        "# RMSE calculation manually\n",
        "def rmse(y_true, y_pred):\n",
        "    return np.sqrt(np.mean((y_true - y_pred) ** 2))\n",
        "\n",
        "# Manual function to shuffle and split data (60/20/20)\n",
        "def manual_split(df, seed):\n",
        "    np.random.seed(seed)\n",
        "    indices = np.random.permutation(len(df))\n",
        "    n = len(df)\n",
        "    n_train = int(0.6 * n)\n",
        "    n_val = int(0.2 * n)\n",
        "\n",
        "    train_idx = indices[:n_train]\n",
        "    val_idx = indices[n_train:n_train + n_val]\n",
        "    test_idx = indices[n_train + n_val:]\n",
        "\n",
        "    df_train = df.iloc[train_idx].reset_index(drop=True)\n",
        "    df_val = df.iloc[val_idx].reset_index(drop=True)\n",
        "    df_test = df.iloc[test_idx].reset_index(drop=True)\n",
        "\n",
        "    return df_train, df_val, df_test\n",
        "\n",
        "# Prepare X matrix by filling NAs with 0 and extracting numpy arrays\n",
        "def prepare_X(df):\n",
        "    df_num = df[base].fillna(0)\n",
        "    return df_num.values\n",
        "\n",
        "# Seeds to try\n",
        "seeds = list(range(10))\n",
        "rmse_scores = []\n",
        "\n",
        "for seed in seeds:\n",
        "    # Split data manually with current seed\n",
        "    df_train, df_val, _ = manual_split(df, seed)\n",
        "\n",
        "    # Prepare data\n",
        "    X_train = prepare_X(df_train)\n",
        "    y_train = df_train[target].values\n",
        "\n",
        "    X_val = prepare_X(df_val)\n",
        "    y_val = df_val[target].values\n",
        "\n",
        "    # Train model without regularization (r=0)\n",
        "    w0, w = train_linear_regression_reg(X_train, y_train, r=0)\n",
        "\n",
        "    # Predict on validation set\n",
        "    y_pred = w0 + X_val.dot(w)\n",
        "\n",
        "    # Calculate RMSE manually\n",
        "    score = rmse(y_val, y_pred)\n",
        "    rmse_scores.append(score)\n",
        "\n",
        "# Calculate standard deviation of RMSE scores\n",
        "std = np.std(rmse_scores)\n",
        "print(\"RMSE scores:\", [round(s, 3) for s in rmse_scores])\n",
        "print(\"Standard deviation:\", round(std, 3))"
      ],
      "metadata": {
        "colab": {
          "base_uri": "https://localhost:8080/"
        },
        "id": "6-yfwpRSnL7Z",
        "outputId": "aa729623-7471-4e8e-d6a2-78cec457190f"
      },
      "execution_count": 31,
      "outputs": [
        {
          "output_type": "stream",
          "name": "stdout",
          "text": [
            "RMSE scores: [np.float64(0.516), np.float64(0.509), np.float64(0.516), np.float64(0.527), np.float64(0.533), np.float64(0.518), np.float64(0.513), np.float64(0.53), np.float64(0.507), np.float64(0.521)]\n",
            "Standard deviation: 0.008\n"
          ]
        }
      ]
    },
    {
      "cell_type": "code",
      "source": [
        "def train_linear_regression_reg(X, y, r=0.0):\n",
        "    ones = np.ones(X.shape[0])\n",
        "    X = np.column_stack([ones, X])\n",
        "\n",
        "    XTX = X.T.dot(X)\n",
        "    reg = r * np.eye(XTX.shape[0])\n",
        "    XTX = XTX + reg\n",
        "\n",
        "    XTX_inv = np.linalg.inv(XTX)\n",
        "    w = XTX_inv.dot(X.T).dot(y)\n",
        "\n",
        "    return w[0], w[1:]\n",
        "\n",
        "def rmse(y_true, y_pred):\n",
        "    return np.sqrt(np.mean((y_true - y_pred) ** 2))\n",
        "\n",
        "def manual_split(df, seed):\n",
        "    np.random.seed(seed)\n",
        "    indices = np.random.permutation(len(df))\n",
        "    n = len(df)\n",
        "    n_train = int(0.6 * n)\n",
        "    n_val = int(0.2 * n)\n",
        "\n",
        "    train_idx = indices[:n_train]\n",
        "    val_idx = indices[n_train:n_train + n_val]\n",
        "    test_idx = indices[n_train + n_val:]\n",
        "\n",
        "    df_train = df.iloc[train_idx].reset_index(drop=True)\n",
        "    df_val = df.iloc[val_idx].reset_index(drop=True)\n",
        "    df_test = df.iloc[test_idx].reset_index(drop=True)\n",
        "\n",
        "    return df_train, df_val, df_test\n",
        "\n",
        "def prepare_X(df):\n",
        "    df_num = df[base].fillna(0)\n",
        "    return df_num.values\n",
        "\n",
        "# Use seed 9\n",
        "seed = 9\n",
        "df_train, df_val, df_test = manual_split(df, seed)\n",
        "\n",
        "# Combine train and val\n",
        "df_train_val = pd.concat([df_train, df_val], ignore_index=True)\n",
        "\n",
        "# Prepare features and target\n",
        "X_train_val = prepare_X(df_train_val)\n",
        "y_train_val = df_train_val[target].values\n",
        "\n",
        "X_test = prepare_X(df_test)\n",
        "y_test = df_test[target].values\n",
        "\n",
        "# Train model with r=0.001\n",
        "w0, w = train_linear_regression_reg(X_train_val, y_train_val, r=0.001)\n",
        "\n",
        "# Predict on test set\n",
        "y_pred = w0 + X_test.dot(w)\n",
        "\n",
        "# Calculate RMSE\n",
        "score = rmse(y_test, y_pred)\n",
        "print(\"Test RMSE:\", round(score, 3))"
      ],
      "metadata": {
        "colab": {
          "base_uri": "https://localhost:8080/"
        },
        "id": "22x5xS_LnL4-",
        "outputId": "37059608-6579-4b19-c48c-3d7da2900cc7"
      },
      "execution_count": 32,
      "outputs": [
        {
          "output_type": "stream",
          "name": "stdout",
          "text": [
            "Test RMSE: 0.529\n"
          ]
        }
      ]
    },
    {
      "cell_type": "code",
      "source": [],
      "metadata": {
        "id": "xJpLRZx9nL2d"
      },
      "execution_count": null,
      "outputs": []
    },
    {
      "cell_type": "code",
      "source": [],
      "metadata": {
        "id": "HDgvwFAqnLzz"
      },
      "execution_count": null,
      "outputs": []
    },
    {
      "cell_type": "code",
      "source": [],
      "metadata": {
        "id": "LEo5jYSBnLxL"
      },
      "execution_count": null,
      "outputs": []
    }
  ]
}