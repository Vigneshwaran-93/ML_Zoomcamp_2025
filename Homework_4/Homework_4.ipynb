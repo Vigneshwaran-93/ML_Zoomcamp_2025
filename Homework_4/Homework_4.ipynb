{
  "nbformat": 4,
  "nbformat_minor": 0,
  "metadata": {
    "colab": {
      "provenance": []
    },
    "kernelspec": {
      "name": "python3",
      "display_name": "Python 3"
    },
    "language_info": {
      "name": "python"
    }
  },
  "cells": [
    {
      "cell_type": "code",
      "execution_count": 1,
      "metadata": {
        "id": "TJ7jWwxbbnNF"
      },
      "outputs": [],
      "source": [
        "import pandas as pd"
      ]
    },
    {
      "cell_type": "code",
      "source": [
        "df=pd.read_csv(\"data_4.csv\")"
      ],
      "metadata": {
        "id": "RcnuXrn2byeI"
      },
      "execution_count": 2,
      "outputs": []
    },
    {
      "cell_type": "code",
      "source": [
        "df.head()"
      ],
      "metadata": {
        "colab": {
          "base_uri": "https://localhost:8080/",
          "height": 226
        },
        "id": "4QNbaslWb1xV",
        "outputId": "a2ac0acc-3ec9-418e-b542-e6b6bdb8355d"
      },
      "execution_count": 3,
      "outputs": [
        {
          "output_type": "execute_result",
          "data": {
            "text/plain": [
              "    lead_source    industry  number_of_courses_viewed  annual_income  \\\n",
              "0      paid_ads         NaN                         1        79450.0   \n",
              "1  social_media      retail                         1        46992.0   \n",
              "2        events  healthcare                         5        78796.0   \n",
              "3      paid_ads      retail                         2        83843.0   \n",
              "4      referral   education                         3        85012.0   \n",
              "\n",
              "  employment_status       location  interaction_count  lead_score  converted  \n",
              "0        unemployed  south_america                  4        0.94          1  \n",
              "1          employed  south_america                  1        0.80          0  \n",
              "2        unemployed      australia                  3        0.69          1  \n",
              "3               NaN      australia                  1        0.87          0  \n",
              "4     self_employed         europe                  3        0.62          1  "
            ],
            "text/html": [
              "\n",
              "  <div id=\"df-e797c388-59f4-47cf-be07-309ffe8977d4\" class=\"colab-df-container\">\n",
              "    <div>\n",
              "<style scoped>\n",
              "    .dataframe tbody tr th:only-of-type {\n",
              "        vertical-align: middle;\n",
              "    }\n",
              "\n",
              "    .dataframe tbody tr th {\n",
              "        vertical-align: top;\n",
              "    }\n",
              "\n",
              "    .dataframe thead th {\n",
              "        text-align: right;\n",
              "    }\n",
              "</style>\n",
              "<table border=\"1\" class=\"dataframe\">\n",
              "  <thead>\n",
              "    <tr style=\"text-align: right;\">\n",
              "      <th></th>\n",
              "      <th>lead_source</th>\n",
              "      <th>industry</th>\n",
              "      <th>number_of_courses_viewed</th>\n",
              "      <th>annual_income</th>\n",
              "      <th>employment_status</th>\n",
              "      <th>location</th>\n",
              "      <th>interaction_count</th>\n",
              "      <th>lead_score</th>\n",
              "      <th>converted</th>\n",
              "    </tr>\n",
              "  </thead>\n",
              "  <tbody>\n",
              "    <tr>\n",
              "      <th>0</th>\n",
              "      <td>paid_ads</td>\n",
              "      <td>NaN</td>\n",
              "      <td>1</td>\n",
              "      <td>79450.0</td>\n",
              "      <td>unemployed</td>\n",
              "      <td>south_america</td>\n",
              "      <td>4</td>\n",
              "      <td>0.94</td>\n",
              "      <td>1</td>\n",
              "    </tr>\n",
              "    <tr>\n",
              "      <th>1</th>\n",
              "      <td>social_media</td>\n",
              "      <td>retail</td>\n",
              "      <td>1</td>\n",
              "      <td>46992.0</td>\n",
              "      <td>employed</td>\n",
              "      <td>south_america</td>\n",
              "      <td>1</td>\n",
              "      <td>0.80</td>\n",
              "      <td>0</td>\n",
              "    </tr>\n",
              "    <tr>\n",
              "      <th>2</th>\n",
              "      <td>events</td>\n",
              "      <td>healthcare</td>\n",
              "      <td>5</td>\n",
              "      <td>78796.0</td>\n",
              "      <td>unemployed</td>\n",
              "      <td>australia</td>\n",
              "      <td>3</td>\n",
              "      <td>0.69</td>\n",
              "      <td>1</td>\n",
              "    </tr>\n",
              "    <tr>\n",
              "      <th>3</th>\n",
              "      <td>paid_ads</td>\n",
              "      <td>retail</td>\n",
              "      <td>2</td>\n",
              "      <td>83843.0</td>\n",
              "      <td>NaN</td>\n",
              "      <td>australia</td>\n",
              "      <td>1</td>\n",
              "      <td>0.87</td>\n",
              "      <td>0</td>\n",
              "    </tr>\n",
              "    <tr>\n",
              "      <th>4</th>\n",
              "      <td>referral</td>\n",
              "      <td>education</td>\n",
              "      <td>3</td>\n",
              "      <td>85012.0</td>\n",
              "      <td>self_employed</td>\n",
              "      <td>europe</td>\n",
              "      <td>3</td>\n",
              "      <td>0.62</td>\n",
              "      <td>1</td>\n",
              "    </tr>\n",
              "  </tbody>\n",
              "</table>\n",
              "</div>\n",
              "    <div class=\"colab-df-buttons\">\n",
              "\n",
              "  <div class=\"colab-df-container\">\n",
              "    <button class=\"colab-df-convert\" onclick=\"convertToInteractive('df-e797c388-59f4-47cf-be07-309ffe8977d4')\"\n",
              "            title=\"Convert this dataframe to an interactive table.\"\n",
              "            style=\"display:none;\">\n",
              "\n",
              "  <svg xmlns=\"http://www.w3.org/2000/svg\" height=\"24px\" viewBox=\"0 -960 960 960\">\n",
              "    <path d=\"M120-120v-720h720v720H120Zm60-500h600v-160H180v160Zm220 220h160v-160H400v160Zm0 220h160v-160H400v160ZM180-400h160v-160H180v160Zm440 0h160v-160H620v160ZM180-180h160v-160H180v160Zm440 0h160v-160H620v160Z\"/>\n",
              "  </svg>\n",
              "    </button>\n",
              "\n",
              "  <style>\n",
              "    .colab-df-container {\n",
              "      display:flex;\n",
              "      gap: 12px;\n",
              "    }\n",
              "\n",
              "    .colab-df-convert {\n",
              "      background-color: #E8F0FE;\n",
              "      border: none;\n",
              "      border-radius: 50%;\n",
              "      cursor: pointer;\n",
              "      display: none;\n",
              "      fill: #1967D2;\n",
              "      height: 32px;\n",
              "      padding: 0 0 0 0;\n",
              "      width: 32px;\n",
              "    }\n",
              "\n",
              "    .colab-df-convert:hover {\n",
              "      background-color: #E2EBFA;\n",
              "      box-shadow: 0px 1px 2px rgba(60, 64, 67, 0.3), 0px 1px 3px 1px rgba(60, 64, 67, 0.15);\n",
              "      fill: #174EA6;\n",
              "    }\n",
              "\n",
              "    .colab-df-buttons div {\n",
              "      margin-bottom: 4px;\n",
              "    }\n",
              "\n",
              "    [theme=dark] .colab-df-convert {\n",
              "      background-color: #3B4455;\n",
              "      fill: #D2E3FC;\n",
              "    }\n",
              "\n",
              "    [theme=dark] .colab-df-convert:hover {\n",
              "      background-color: #434B5C;\n",
              "      box-shadow: 0px 1px 3px 1px rgba(0, 0, 0, 0.15);\n",
              "      filter: drop-shadow(0px 1px 2px rgba(0, 0, 0, 0.3));\n",
              "      fill: #FFFFFF;\n",
              "    }\n",
              "  </style>\n",
              "\n",
              "    <script>\n",
              "      const buttonEl =\n",
              "        document.querySelector('#df-e797c388-59f4-47cf-be07-309ffe8977d4 button.colab-df-convert');\n",
              "      buttonEl.style.display =\n",
              "        google.colab.kernel.accessAllowed ? 'block' : 'none';\n",
              "\n",
              "      async function convertToInteractive(key) {\n",
              "        const element = document.querySelector('#df-e797c388-59f4-47cf-be07-309ffe8977d4');\n",
              "        const dataTable =\n",
              "          await google.colab.kernel.invokeFunction('convertToInteractive',\n",
              "                                                    [key], {});\n",
              "        if (!dataTable) return;\n",
              "\n",
              "        const docLinkHtml = 'Like what you see? Visit the ' +\n",
              "          '<a target=\"_blank\" href=https://colab.research.google.com/notebooks/data_table.ipynb>data table notebook</a>'\n",
              "          + ' to learn more about interactive tables.';\n",
              "        element.innerHTML = '';\n",
              "        dataTable['output_type'] = 'display_data';\n",
              "        await google.colab.output.renderOutput(dataTable, element);\n",
              "        const docLink = document.createElement('div');\n",
              "        docLink.innerHTML = docLinkHtml;\n",
              "        element.appendChild(docLink);\n",
              "      }\n",
              "    </script>\n",
              "  </div>\n",
              "\n",
              "\n",
              "    <div id=\"df-f21897a6-2e8e-4e81-955d-90f5a868ec43\">\n",
              "      <button class=\"colab-df-quickchart\" onclick=\"quickchart('df-f21897a6-2e8e-4e81-955d-90f5a868ec43')\"\n",
              "                title=\"Suggest charts\"\n",
              "                style=\"display:none;\">\n",
              "\n",
              "<svg xmlns=\"http://www.w3.org/2000/svg\" height=\"24px\"viewBox=\"0 0 24 24\"\n",
              "     width=\"24px\">\n",
              "    <g>\n",
              "        <path d=\"M19 3H5c-1.1 0-2 .9-2 2v14c0 1.1.9 2 2 2h14c1.1 0 2-.9 2-2V5c0-1.1-.9-2-2-2zM9 17H7v-7h2v7zm4 0h-2V7h2v10zm4 0h-2v-4h2v4z\"/>\n",
              "    </g>\n",
              "</svg>\n",
              "      </button>\n",
              "\n",
              "<style>\n",
              "  .colab-df-quickchart {\n",
              "      --bg-color: #E8F0FE;\n",
              "      --fill-color: #1967D2;\n",
              "      --hover-bg-color: #E2EBFA;\n",
              "      --hover-fill-color: #174EA6;\n",
              "      --disabled-fill-color: #AAA;\n",
              "      --disabled-bg-color: #DDD;\n",
              "  }\n",
              "\n",
              "  [theme=dark] .colab-df-quickchart {\n",
              "      --bg-color: #3B4455;\n",
              "      --fill-color: #D2E3FC;\n",
              "      --hover-bg-color: #434B5C;\n",
              "      --hover-fill-color: #FFFFFF;\n",
              "      --disabled-bg-color: #3B4455;\n",
              "      --disabled-fill-color: #666;\n",
              "  }\n",
              "\n",
              "  .colab-df-quickchart {\n",
              "    background-color: var(--bg-color);\n",
              "    border: none;\n",
              "    border-radius: 50%;\n",
              "    cursor: pointer;\n",
              "    display: none;\n",
              "    fill: var(--fill-color);\n",
              "    height: 32px;\n",
              "    padding: 0;\n",
              "    width: 32px;\n",
              "  }\n",
              "\n",
              "  .colab-df-quickchart:hover {\n",
              "    background-color: var(--hover-bg-color);\n",
              "    box-shadow: 0 1px 2px rgba(60, 64, 67, 0.3), 0 1px 3px 1px rgba(60, 64, 67, 0.15);\n",
              "    fill: var(--button-hover-fill-color);\n",
              "  }\n",
              "\n",
              "  .colab-df-quickchart-complete:disabled,\n",
              "  .colab-df-quickchart-complete:disabled:hover {\n",
              "    background-color: var(--disabled-bg-color);\n",
              "    fill: var(--disabled-fill-color);\n",
              "    box-shadow: none;\n",
              "  }\n",
              "\n",
              "  .colab-df-spinner {\n",
              "    border: 2px solid var(--fill-color);\n",
              "    border-color: transparent;\n",
              "    border-bottom-color: var(--fill-color);\n",
              "    animation:\n",
              "      spin 1s steps(1) infinite;\n",
              "  }\n",
              "\n",
              "  @keyframes spin {\n",
              "    0% {\n",
              "      border-color: transparent;\n",
              "      border-bottom-color: var(--fill-color);\n",
              "      border-left-color: var(--fill-color);\n",
              "    }\n",
              "    20% {\n",
              "      border-color: transparent;\n",
              "      border-left-color: var(--fill-color);\n",
              "      border-top-color: var(--fill-color);\n",
              "    }\n",
              "    30% {\n",
              "      border-color: transparent;\n",
              "      border-left-color: var(--fill-color);\n",
              "      border-top-color: var(--fill-color);\n",
              "      border-right-color: var(--fill-color);\n",
              "    }\n",
              "    40% {\n",
              "      border-color: transparent;\n",
              "      border-right-color: var(--fill-color);\n",
              "      border-top-color: var(--fill-color);\n",
              "    }\n",
              "    60% {\n",
              "      border-color: transparent;\n",
              "      border-right-color: var(--fill-color);\n",
              "    }\n",
              "    80% {\n",
              "      border-color: transparent;\n",
              "      border-right-color: var(--fill-color);\n",
              "      border-bottom-color: var(--fill-color);\n",
              "    }\n",
              "    90% {\n",
              "      border-color: transparent;\n",
              "      border-bottom-color: var(--fill-color);\n",
              "    }\n",
              "  }\n",
              "</style>\n",
              "\n",
              "      <script>\n",
              "        async function quickchart(key) {\n",
              "          const quickchartButtonEl =\n",
              "            document.querySelector('#' + key + ' button');\n",
              "          quickchartButtonEl.disabled = true;  // To prevent multiple clicks.\n",
              "          quickchartButtonEl.classList.add('colab-df-spinner');\n",
              "          try {\n",
              "            const charts = await google.colab.kernel.invokeFunction(\n",
              "                'suggestCharts', [key], {});\n",
              "          } catch (error) {\n",
              "            console.error('Error during call to suggestCharts:', error);\n",
              "          }\n",
              "          quickchartButtonEl.classList.remove('colab-df-spinner');\n",
              "          quickchartButtonEl.classList.add('colab-df-quickchart-complete');\n",
              "        }\n",
              "        (() => {\n",
              "          let quickchartButtonEl =\n",
              "            document.querySelector('#df-f21897a6-2e8e-4e81-955d-90f5a868ec43 button');\n",
              "          quickchartButtonEl.style.display =\n",
              "            google.colab.kernel.accessAllowed ? 'block' : 'none';\n",
              "        })();\n",
              "      </script>\n",
              "    </div>\n",
              "\n",
              "    </div>\n",
              "  </div>\n"
            ],
            "application/vnd.google.colaboratory.intrinsic+json": {
              "type": "dataframe",
              "variable_name": "df",
              "summary": "{\n  \"name\": \"df\",\n  \"rows\": 1462,\n  \"fields\": [\n    {\n      \"column\": \"lead_source\",\n      \"properties\": {\n        \"dtype\": \"category\",\n        \"num_unique_values\": 5,\n        \"samples\": [\n          \"social_media\",\n          \"organic_search\",\n          \"events\"\n        ],\n        \"semantic_type\": \"\",\n        \"description\": \"\"\n      }\n    },\n    {\n      \"column\": \"industry\",\n      \"properties\": {\n        \"dtype\": \"category\",\n        \"num_unique_values\": 7,\n        \"samples\": [\n          \"retail\",\n          \"healthcare\",\n          \"other\"\n        ],\n        \"semantic_type\": \"\",\n        \"description\": \"\"\n      }\n    },\n    {\n      \"column\": \"number_of_courses_viewed\",\n      \"properties\": {\n        \"dtype\": \"number\",\n        \"std\": 1,\n        \"min\": 0,\n        \"max\": 9,\n        \"num_unique_values\": 10,\n        \"samples\": [\n          7,\n          5,\n          4\n        ],\n        \"semantic_type\": \"\",\n        \"description\": \"\"\n      }\n    },\n    {\n      \"column\": \"annual_income\",\n      \"properties\": {\n        \"dtype\": \"number\",\n        \"std\": 15070.140389099402,\n        \"min\": 13929.0,\n        \"max\": 109899.0,\n        \"num_unique_values\": 1267,\n        \"samples\": [\n          35832.0,\n          99435.0,\n          53502.0\n        ],\n        \"semantic_type\": \"\",\n        \"description\": \"\"\n      }\n    },\n    {\n      \"column\": \"employment_status\",\n      \"properties\": {\n        \"dtype\": \"category\",\n        \"num_unique_values\": 4,\n        \"samples\": [\n          \"employed\",\n          \"student\",\n          \"unemployed\"\n        ],\n        \"semantic_type\": \"\",\n        \"description\": \"\"\n      }\n    },\n    {\n      \"column\": \"location\",\n      \"properties\": {\n        \"dtype\": \"category\",\n        \"num_unique_values\": 7,\n        \"samples\": [\n          \"south_america\",\n          \"australia\",\n          \"north_america\"\n        ],\n        \"semantic_type\": \"\",\n        \"description\": \"\"\n      }\n    },\n    {\n      \"column\": \"interaction_count\",\n      \"properties\": {\n        \"dtype\": \"number\",\n        \"std\": 1,\n        \"min\": 0,\n        \"max\": 11,\n        \"num_unique_values\": 12,\n        \"samples\": [\n          10,\n          8,\n          4\n        ],\n        \"semantic_type\": \"\",\n        \"description\": \"\"\n      }\n    },\n    {\n      \"column\": \"lead_score\",\n      \"properties\": {\n        \"dtype\": \"number\",\n        \"std\": 0.28846540429698403,\n        \"min\": 0.0,\n        \"max\": 1.0,\n        \"num_unique_values\": 101,\n        \"samples\": [\n          0.09,\n          0.72,\n          0.58\n        ],\n        \"semantic_type\": \"\",\n        \"description\": \"\"\n      }\n    },\n    {\n      \"column\": \"converted\",\n      \"properties\": {\n        \"dtype\": \"number\",\n        \"std\": 0,\n        \"min\": 0,\n        \"max\": 1,\n        \"num_unique_values\": 2,\n        \"samples\": [\n          0,\n          1\n        ],\n        \"semantic_type\": \"\",\n        \"description\": \"\"\n      }\n    }\n  ]\n}"
            }
          },
          "metadata": {},
          "execution_count": 3
        }
      ]
    },
    {
      "cell_type": "code",
      "source": [
        "df.columns"
      ],
      "metadata": {
        "colab": {
          "base_uri": "https://localhost:8080/"
        },
        "id": "dsnsFvl8b2z3",
        "outputId": "9bd53d91-0cd1-4360-b24e-2765b7aea694"
      },
      "execution_count": 4,
      "outputs": [
        {
          "output_type": "execute_result",
          "data": {
            "text/plain": [
              "Index(['lead_source', 'industry', 'number_of_courses_viewed', 'annual_income',\n",
              "       'employment_status', 'location', 'interaction_count', 'lead_score',\n",
              "       'converted'],\n",
              "      dtype='object')"
            ]
          },
          "metadata": {},
          "execution_count": 4
        }
      ]
    },
    {
      "cell_type": "code",
      "source": [
        "df.dtypes"
      ],
      "metadata": {
        "colab": {
          "base_uri": "https://localhost:8080/",
          "height": 366
        },
        "id": "-1vLlF_LcFee",
        "outputId": "3246d702-26b9-4d49-bb3e-861a0a7ae3b1"
      },
      "execution_count": 5,
      "outputs": [
        {
          "output_type": "execute_result",
          "data": {
            "text/plain": [
              "lead_source                  object\n",
              "industry                     object\n",
              "number_of_courses_viewed      int64\n",
              "annual_income               float64\n",
              "employment_status            object\n",
              "location                     object\n",
              "interaction_count             int64\n",
              "lead_score                  float64\n",
              "converted                     int64\n",
              "dtype: object"
            ],
            "text/html": [
              "<div>\n",
              "<style scoped>\n",
              "    .dataframe tbody tr th:only-of-type {\n",
              "        vertical-align: middle;\n",
              "    }\n",
              "\n",
              "    .dataframe tbody tr th {\n",
              "        vertical-align: top;\n",
              "    }\n",
              "\n",
              "    .dataframe thead th {\n",
              "        text-align: right;\n",
              "    }\n",
              "</style>\n",
              "<table border=\"1\" class=\"dataframe\">\n",
              "  <thead>\n",
              "    <tr style=\"text-align: right;\">\n",
              "      <th></th>\n",
              "      <th>0</th>\n",
              "    </tr>\n",
              "  </thead>\n",
              "  <tbody>\n",
              "    <tr>\n",
              "      <th>lead_source</th>\n",
              "      <td>object</td>\n",
              "    </tr>\n",
              "    <tr>\n",
              "      <th>industry</th>\n",
              "      <td>object</td>\n",
              "    </tr>\n",
              "    <tr>\n",
              "      <th>number_of_courses_viewed</th>\n",
              "      <td>int64</td>\n",
              "    </tr>\n",
              "    <tr>\n",
              "      <th>annual_income</th>\n",
              "      <td>float64</td>\n",
              "    </tr>\n",
              "    <tr>\n",
              "      <th>employment_status</th>\n",
              "      <td>object</td>\n",
              "    </tr>\n",
              "    <tr>\n",
              "      <th>location</th>\n",
              "      <td>object</td>\n",
              "    </tr>\n",
              "    <tr>\n",
              "      <th>interaction_count</th>\n",
              "      <td>int64</td>\n",
              "    </tr>\n",
              "    <tr>\n",
              "      <th>lead_score</th>\n",
              "      <td>float64</td>\n",
              "    </tr>\n",
              "    <tr>\n",
              "      <th>converted</th>\n",
              "      <td>int64</td>\n",
              "    </tr>\n",
              "  </tbody>\n",
              "</table>\n",
              "</div><br><label><b>dtype:</b> object</label>"
            ]
          },
          "metadata": {},
          "execution_count": 5
        }
      ]
    },
    {
      "cell_type": "code",
      "source": [
        "categorical_columns = ['lead_source', 'industry', 'employment_status', 'location']\n",
        "df[categorical_columns] = df[categorical_columns].fillna('NA')\n",
        "\n",
        "# For numerical columns, replace missing values with 0.0\n",
        "numerical_columns = ['number_of_courses_viewed', 'annual_income', 'interaction_count', 'lead_score']\n",
        "df[numerical_columns] = df[numerical_columns].fillna(0.0)"
      ],
      "metadata": {
        "id": "mhUTiwjScSFO"
      },
      "execution_count": 6,
      "outputs": []
    },
    {
      "cell_type": "code",
      "source": [
        "\n",
        "# Step 4: Split the data into train, validation, and test (using numpy)\n",
        "# Convert the DataFrame to a NumPy array\n",
        "df_values = df.values\n",
        "\n",
        "# Shuffle the data\n",
        "np.random.seed(1)\n",
        "np.random.shuffle(df_values)\n",
        "\n",
        "# Calculate the number of samples for each dataset\n",
        "n_samples = df_values.shape[0]\n",
        "train_size = int(0.6 * n_samples)\n",
        "validation_size = int(0.2 * n_samples)\n",
        "\n",
        "# Split the data\n",
        "train_data = df_values[:train_size]\n",
        "validation_data = df_values[train_size:train_size + validation_size]\n",
        "test_data = df_values[train_size + validation_size:]\n",
        "\n",
        "# Convert back to DataFrames for easy handling\n",
        "train_df = pd.DataFrame(train_data, columns=df.columns)\n",
        "validation_df = pd.DataFrame(validation_data, columns=df.columns)\n",
        "test_df = pd.DataFrame(test_data, columns=df.columns)\n",
        "\n",
        "# Separate features and target for training, validation, and testing\n",
        "X_train = train_df.drop('converted', axis=1)\n",
        "y_train = train_df['converted']\n",
        "X_validation = validation_df.drop('converted', axis=1)\n",
        "y_validation = validation_df['converted']\n",
        "X_test = test_df.drop('converted', axis=1)\n",
        "y_test = test_df['converted']"
      ],
      "metadata": {
        "id": "FRPUMYVYcmhw"
      },
      "execution_count": 10,
      "outputs": []
    },
    {
      "cell_type": "code",
      "source": [
        "from sklearn.metrics import roc_auc_score\n",
        "import matplotlib.pyplot as plt\n",
        "\n",
        "# Step 1: Define numerical columns for evaluation\n",
        "numerical_columns = ['lead_score', 'number_of_courses_viewed', 'interaction_count', 'annual_income']\n",
        "\n",
        "# Step 2: Ensure that the target variable (y_train) is binary\n",
        "print(\"Target variable unique values:\", np.unique(y_train))  # Check if y_train contains only 0s and 1s\n",
        "\n",
        "# Step 3: Initialize a dictionary to store AUC values\n",
        "auc_scores = {}\n",
        "\n",
        "# Step 4: Compute AUC for each numerical variable\n",
        "for col in numerical_columns:\n",
        "    # Ensure the feature is numeric\n",
        "    print(f\"Checking column '{col}': {X_train[col].dtype}\")\n",
        "\n",
        "    auc = roc_auc_score(y_train, X_train[col])  # y_train is the target and X_train[col] is the feature\n",
        "    auc_scores[col] = auc\n",
        "\n",
        "    # Step 5: If AUC < 0.5, negate the variable (invert the direction)\n",
        "    if auc < 0.5:\n",
        "        print(f\"AUC for {col} is less than 0.5, inverting the variable.\")\n",
        "        X_train[col] = -X_train[col]  # Invert the variable\n",
        "\n",
        "# Step 6: Print the AUC scores for each numerical variable\n",
        "print(\"\\nAUC Scores for each numerical feature:\")\n",
        "for col, auc in auc_scores.items():\n",
        "    print(f\"{col}: {auc:.4f}\")\n",
        "\n",
        "# Step 7: Identify the variable with the highest AUC\n",
        "best_feature = max(auc_scores, key=auc_scores.get)\n",
        "print(f\"\\nThe numerical variable with the highest AUC is: {best_feature}\")"
      ],
      "metadata": {
        "colab": {
          "base_uri": "https://localhost:8080/",
          "height": 408
        },
        "id": "Jf8mcjbxcoUF",
        "outputId": "bfc7d167-23aa-4591-b23c-d39c56b696db"
      },
      "execution_count": 13,
      "outputs": [
        {
          "output_type": "stream",
          "name": "stdout",
          "text": [
            "Target variable unique values: [0 1]\n",
            "Checking column 'lead_score': object\n"
          ]
        },
        {
          "output_type": "error",
          "ename": "ValueError",
          "evalue": "unknown format is not supported",
          "traceback": [
            "\u001b[0;31m---------------------------------------------------------------------------\u001b[0m",
            "\u001b[0;31mValueError\u001b[0m                                Traceback (most recent call last)",
            "\u001b[0;32m/tmp/ipython-input-4276828216.py\u001b[0m in \u001b[0;36m<cell line: 0>\u001b[0;34m()\u001b[0m\n\u001b[1;32m     16\u001b[0m     \u001b[0mprint\u001b[0m\u001b[0;34m(\u001b[0m\u001b[0;34mf\"Checking column '{col}': {X_train[col].dtype}\"\u001b[0m\u001b[0;34m)\u001b[0m\u001b[0;34m\u001b[0m\u001b[0;34m\u001b[0m\u001b[0m\n\u001b[1;32m     17\u001b[0m \u001b[0;34m\u001b[0m\u001b[0m\n\u001b[0;32m---> 18\u001b[0;31m     \u001b[0mauc\u001b[0m \u001b[0;34m=\u001b[0m \u001b[0mroc_auc_score\u001b[0m\u001b[0;34m(\u001b[0m\u001b[0my_train\u001b[0m\u001b[0;34m,\u001b[0m \u001b[0mX_train\u001b[0m\u001b[0;34m[\u001b[0m\u001b[0mcol\u001b[0m\u001b[0;34m]\u001b[0m\u001b[0;34m)\u001b[0m  \u001b[0;31m# y_train is the target and X_train[col] is the feature\u001b[0m\u001b[0;34m\u001b[0m\u001b[0;34m\u001b[0m\u001b[0m\n\u001b[0m\u001b[1;32m     19\u001b[0m     \u001b[0mauc_scores\u001b[0m\u001b[0;34m[\u001b[0m\u001b[0mcol\u001b[0m\u001b[0;34m]\u001b[0m \u001b[0;34m=\u001b[0m \u001b[0mauc\u001b[0m\u001b[0;34m\u001b[0m\u001b[0;34m\u001b[0m\u001b[0m\n\u001b[1;32m     20\u001b[0m \u001b[0;34m\u001b[0m\u001b[0m\n",
            "\u001b[0;32m/usr/local/lib/python3.12/dist-packages/sklearn/utils/_param_validation.py\u001b[0m in \u001b[0;36mwrapper\u001b[0;34m(*args, **kwargs)\u001b[0m\n\u001b[1;32m    214\u001b[0m                     )\n\u001b[1;32m    215\u001b[0m                 ):\n\u001b[0;32m--> 216\u001b[0;31m                     \u001b[0;32mreturn\u001b[0m \u001b[0mfunc\u001b[0m\u001b[0;34m(\u001b[0m\u001b[0;34m*\u001b[0m\u001b[0margs\u001b[0m\u001b[0;34m,\u001b[0m \u001b[0;34m**\u001b[0m\u001b[0mkwargs\u001b[0m\u001b[0;34m)\u001b[0m\u001b[0;34m\u001b[0m\u001b[0;34m\u001b[0m\u001b[0m\n\u001b[0m\u001b[1;32m    217\u001b[0m             \u001b[0;32mexcept\u001b[0m \u001b[0mInvalidParameterError\u001b[0m \u001b[0;32mas\u001b[0m \u001b[0me\u001b[0m\u001b[0;34m:\u001b[0m\u001b[0;34m\u001b[0m\u001b[0;34m\u001b[0m\u001b[0m\n\u001b[1;32m    218\u001b[0m                 \u001b[0;31m# When the function is just a wrapper around an estimator, we allow\u001b[0m\u001b[0;34m\u001b[0m\u001b[0;34m\u001b[0m\u001b[0m\n",
            "\u001b[0;32m/usr/local/lib/python3.12/dist-packages/sklearn/metrics/_ranking.py\u001b[0m in \u001b[0;36mroc_auc_score\u001b[0;34m(y_true, y_score, average, sample_weight, max_fpr, multi_class, labels)\u001b[0m\n\u001b[1;32m    647\u001b[0m         )\n\u001b[1;32m    648\u001b[0m     \u001b[0;32melse\u001b[0m\u001b[0;34m:\u001b[0m  \u001b[0;31m# multilabel-indicator\u001b[0m\u001b[0;34m\u001b[0m\u001b[0;34m\u001b[0m\u001b[0m\n\u001b[0;32m--> 649\u001b[0;31m         return _average_binary_score(\n\u001b[0m\u001b[1;32m    650\u001b[0m             \u001b[0mpartial\u001b[0m\u001b[0;34m(\u001b[0m\u001b[0m_binary_roc_auc_score\u001b[0m\u001b[0;34m,\u001b[0m \u001b[0mmax_fpr\u001b[0m\u001b[0;34m=\u001b[0m\u001b[0mmax_fpr\u001b[0m\u001b[0;34m)\u001b[0m\u001b[0;34m,\u001b[0m\u001b[0;34m\u001b[0m\u001b[0;34m\u001b[0m\u001b[0m\n\u001b[1;32m    651\u001b[0m             \u001b[0my_true\u001b[0m\u001b[0;34m,\u001b[0m\u001b[0;34m\u001b[0m\u001b[0;34m\u001b[0m\u001b[0m\n",
            "\u001b[0;32m/usr/local/lib/python3.12/dist-packages/sklearn/metrics/_base.py\u001b[0m in \u001b[0;36m_average_binary_score\u001b[0;34m(binary_metric, y_true, y_score, average, sample_weight)\u001b[0m\n\u001b[1;32m     64\u001b[0m     \u001b[0my_type\u001b[0m \u001b[0;34m=\u001b[0m \u001b[0mtype_of_target\u001b[0m\u001b[0;34m(\u001b[0m\u001b[0my_true\u001b[0m\u001b[0;34m)\u001b[0m\u001b[0;34m\u001b[0m\u001b[0;34m\u001b[0m\u001b[0m\n\u001b[1;32m     65\u001b[0m     \u001b[0;32mif\u001b[0m \u001b[0my_type\u001b[0m \u001b[0;32mnot\u001b[0m \u001b[0;32min\u001b[0m \u001b[0;34m(\u001b[0m\u001b[0;34m\"binary\"\u001b[0m\u001b[0;34m,\u001b[0m \u001b[0;34m\"multilabel-indicator\"\u001b[0m\u001b[0;34m)\u001b[0m\u001b[0;34m:\u001b[0m\u001b[0;34m\u001b[0m\u001b[0;34m\u001b[0m\u001b[0m\n\u001b[0;32m---> 66\u001b[0;31m         \u001b[0;32mraise\u001b[0m \u001b[0mValueError\u001b[0m\u001b[0;34m(\u001b[0m\u001b[0;34m\"{0} format is not supported\"\u001b[0m\u001b[0;34m.\u001b[0m\u001b[0mformat\u001b[0m\u001b[0;34m(\u001b[0m\u001b[0my_type\u001b[0m\u001b[0;34m)\u001b[0m\u001b[0;34m)\u001b[0m\u001b[0;34m\u001b[0m\u001b[0;34m\u001b[0m\u001b[0m\n\u001b[0m\u001b[1;32m     67\u001b[0m \u001b[0;34m\u001b[0m\u001b[0m\n\u001b[1;32m     68\u001b[0m     \u001b[0;32mif\u001b[0m \u001b[0my_type\u001b[0m \u001b[0;34m==\u001b[0m \u001b[0;34m\"binary\"\u001b[0m\u001b[0;34m:\u001b[0m\u001b[0;34m\u001b[0m\u001b[0;34m\u001b[0m\u001b[0m\n",
            "\u001b[0;31mValueError\u001b[0m: unknown format is not supported"
          ]
        }
      ]
    },
    {
      "cell_type": "code",
      "source": [
        "def compute_auc(df, numerical_columns, ground_truth):\n",
        "    auc_results = {}\n",
        "    for col in numerical_columns:\n",
        "        # Drop rows with missing values in the feature or ground truth\n",
        "        df_clean = df.dropna(subset=[col, ground_truth])\n",
        "\n",
        "        # Compute AUC\n",
        "        auc = roc_auc_score(df_clean[ground_truth], df_clean[col])\n",
        "\n",
        "        # If AUC < 0.5, negate the feature\n",
        "        if auc < 0.5:\n",
        "            auc = roc_auc_score(df_clean[ground_truth], -df_clean[col])\n",
        "            col = f'-{col}'  # Mark that the feature was negated\n",
        "\n",
        "        auc_results[col] = auc\n",
        "\n",
        "    return auc_results\n",
        "\n",
        "# Compute AUC for the given features\n",
        "auc_scores = compute_auc(df, numerical_columns, 'converted')"
      ],
      "metadata": {
        "id": "hVx10LSYdZ-1"
      },
      "execution_count": 14,
      "outputs": []
    },
    {
      "cell_type": "code",
      "source": [
        "auc_scores"
      ],
      "metadata": {
        "colab": {
          "base_uri": "https://localhost:8080/"
        },
        "id": "cnLchcmxjyur",
        "outputId": "93224383-3683-4c45-b20c-65739917ad09"
      },
      "execution_count": 15,
      "outputs": [
        {
          "output_type": "execute_result",
          "data": {
            "text/plain": [
              "{'lead_score': np.float64(0.6148050428003213),\n",
              " 'number_of_courses_viewed': np.float64(0.7608270430582144),\n",
              " 'interaction_count': np.float64(0.7223206403681919),\n",
              " 'annual_income': np.float64(0.5426406260848865)}"
            ]
          },
          "metadata": {},
          "execution_count": 15
        }
      ]
    },
    {
      "cell_type": "code",
      "source": [
        "import pandas as pd\n",
        "from sklearn.feature_extraction import DictVectorizer\n",
        "from sklearn.linear_model import LogisticRegression\n",
        "from sklearn.model_selection import train_test_split\n",
        "from sklearn.metrics import accuracy_score\n",
        "\n",
        "# Categorical columns to be one-hot encoded\n",
        "categorical_columns = ['lead_source', 'industry', 'employment_status', 'location']\n",
        "numerical_columns = ['number_of_courses_viewed', 'annual_income', 'interaction_count', 'lead_score']\n",
        "\n",
        "# Create the feature set as dictionaries\n",
        "features = df[categorical_columns + numerical_columns].to_dict(orient='records')\n",
        "\n",
        "# Apply one-hot encoding with DictVectorizer\n",
        "dv = DictVectorizer(sparse=False)\n",
        "X = dv.fit_transform(features)\n",
        "\n",
        "# Prepare target variable\n",
        "y = df['converted']\n",
        "\n",
        "# Split data into training and testing sets\n",
        "X_train, X_test, y_train, y_test = train_test_split(X, y, test_size=0.2, random_state=42)\n",
        "\n",
        "# Train logistic regression model\n",
        "model = LogisticRegression(solver='liblinear')  # Use liblinear for small datasets\n",
        "model.fit(X_train, y_train)\n",
        "\n",
        "# Make predictions\n",
        "y_pred = model.predict(X_test)\n",
        "\n",
        "# Evaluate the model\n",
        "accuracy = accuracy_score(y_test, y_pred)\n",
        "print(f\"Accuracy: {accuracy:.4f}\")\n",
        "\n",
        "# If you want to see the model coefficients:\n",
        "print(\"\\nModel Coefficients:\")\n",
        "print(pd.DataFrame(model.coef_, columns=dv.get_feature_names_out()))"
      ],
      "metadata": {
        "colab": {
          "base_uri": "https://localhost:8080/"
        },
        "id": "tdyW2qtpjz5O",
        "outputId": "299b4495-a205-4ea6-fd1e-9979920480be"
      },
      "execution_count": 16,
      "outputs": [
        {
          "output_type": "stream",
          "name": "stdout",
          "text": [
            "Accuracy: 0.7372\n",
            "\n",
            "Model Coefficients:\n",
            "   annual_income  employment_status=NA  employment_status=employed  \\\n",
            "0      -0.000018             -0.008855                    0.028793   \n",
            "\n",
            "   employment_status=self_employed  employment_status=student  \\\n",
            "0                         0.002023                   0.008257   \n",
            "\n",
            "   employment_status=unemployed  industry=NA  industry=education  \\\n",
            "0                     -0.104672     -0.02251            0.048785   \n",
            "\n",
            "   industry=finance  industry=healthcare  ...  lead_source=social_media  \\\n",
            "0         -0.024949              -0.0166  ...                 -0.021913   \n",
            "\n",
            "   location=NA  location=africa  location=asia  location=australia  \\\n",
            "0     0.004364        -0.013064      -0.016335           -0.009023   \n",
            "\n",
            "   location=europe  location=middle_east  location=north_america  \\\n",
            "0        -0.000773              0.000323               -0.020696   \n",
            "\n",
            "   location=south_america  number_of_courses_viewed  \n",
            "0                -0.01925                   0.44989  \n",
            "\n",
            "[1 rows x 31 columns]\n"
          ]
        }
      ]
    },
    {
      "cell_type": "code",
      "source": [
        "import numpy as np\n",
        "import matplotlib.pyplot as plt\n",
        "from sklearn.metrics import precision_recall_curve\n",
        "\n",
        "# Get predicted probabilities from the model\n",
        "y_prob = model.predict_proba(X_test)[:, 1]  # Probabilities for the positive class\n",
        "\n",
        "# Lists to store precision, recall, and thresholds\n",
        "precisions = []\n",
        "recalls = []\n",
        "thresholds = np.arange(0.0, 1.01, 0.01)\n",
        "\n",
        "# Calculate precision and recall for each threshold\n",
        "for threshold in thresholds:\n",
        "    # Convert probabilities to binary predictions based on the threshold\n",
        "    y_pred_threshold = (y_prob >= threshold).astype(int)\n",
        "\n",
        "    # Compute precision and recall\n",
        "    precision, recall, _ = precision_recall_curve(y_test, y_prob)\n",
        "\n",
        "    # Store precision and recall at the given threshold\n",
        "    precisions.append(precision[np.where(thresholds == threshold)[0][0]])\n",
        "    recalls.append(recall[np.where(thresholds == threshold)[0][0]])\n",
        "\n",
        "# Convert precision and recall to numpy arrays for easier plotting\n",
        "precisions = np.array(precisions)\n",
        "recalls = np.array(recalls)"
      ],
      "metadata": {
        "id": "0Dj05WVYkK-I"
      },
      "execution_count": 17,
      "outputs": []
    },
    {
      "cell_type": "code",
      "source": [
        "# Plot Precision and Recall curves\n",
        "plt.figure(figsize=(10, 6))\n",
        "plt.plot(thresholds, precisions, label=\"Precision\", color='blue')\n",
        "plt.plot(thresholds, recalls, label=\"Recall\", color='red')\n",
        "plt.title(\"Precision and Recall vs. Threshold\")\n",
        "plt.xlabel(\"Threshold\")\n",
        "plt.ylabel(\"Score\")\n",
        "plt.legend()\n",
        "plt.grid(True)\n",
        "plt.show()\n",
        "\n",
        "# Find the threshold where precision and recall intersect\n",
        "intersect_threshold = thresholds[np.argmin(np.abs(precisions - recalls))]\n",
        "print(f\"The precision and recall curves intersect at threshold: {intersect_threshold:.3f}\")"
      ],
      "metadata": {
        "colab": {
          "base_uri": "https://localhost:8080/",
          "height": 581
        },
        "id": "NJiOT00SkZhP",
        "outputId": "0e3cd06a-845c-414d-d759-32f8f69564c2"
      },
      "execution_count": 18,
      "outputs": [
        {
          "output_type": "display_data",
          "data": {
            "text/plain": [
              "<Figure size 1000x600 with 1 Axes>"
            ],
            "image/png": "[encoded data removed]"
          },
          "metadata": {}
        },
        {
          "output_type": "stream",
          "name": "stdout",
          "text": [
            "The precision and recall curves intersect at threshold: 0.980\n"
          ]
        }
      ]
    },
    {
      "cell_type": "code",
      "source": [
        "from sklearn.metrics import f1_score\n",
        "\n",
        "# Initialize list to store F1 scores for each threshold\n",
        "f1_scores = []\n",
        "\n",
        "# Calculate F1 score for each threshold\n",
        "for threshold in thresholds:\n",
        "    # Convert probabilities to binary predictions based on the threshold\n",
        "    y_pred_threshold = (y_prob >= threshold).astype(int)\n",
        "\n",
        "    # Compute F1 score\n",
        "    f1 = f1_score(y_test, y_pred_threshold)\n",
        "\n",
        "    # Store F1 score\n",
        "    f1_scores.append(f1)\n",
        "\n",
        "# Convert f1_scores to numpy array for easier plotting\n",
        "f1_scores = np.array(f1_scores)\n",
        "\n",
        "# Plot the F1 score vs. threshold\n",
        "plt.figure(figsize=(10, 6))\n",
        "plt.plot(thresholds, f1_scores, label=\"F1 Score\", color='green')\n",
        "plt.title(\"F1 Score vs. Threshold\")\n",
        "plt.xlabel(\"Threshold\")\n",
        "plt.ylabel(\"F1 Score\")\n",
        "plt.grid(True)\n",
        "plt.legend()\n",
        "plt.show()\n",
        "\n",
        "# Find the threshold where F1 is maximal\n",
        "max_f1_threshold = thresholds[np.argmax(f1_scores)]\n",
        "print(f\"The threshold that maximizes the F1 score is: {max_f1_threshold:.3f}\")\n"
      ],
      "metadata": {
        "colab": {
          "base_uri": "https://localhost:8080/",
          "height": 581
        },
        "id": "tdKEQfrTkeWF",
        "outputId": "f6bfa114-bcc5-4eb5-867f-ba3aa8b9ebc5"
      },
      "execution_count": 19,
      "outputs": [
        {
          "output_type": "display_data",
          "data": {
            "text/plain": [
              "<Figure size 1000x600 with 1 Axes>"
            ],
            "image/png": "[encoded data removed]"
          },
          "metadata": {}
        },
        {
          "output_type": "stream",
          "name": "stdout",
          "text": [
            "The threshold that maximizes the F1 score is: 0.520\n"
          ]
        }
      ]
    },
    {
      "cell_type": "code",
      "source": [
        "from sklearn.model_selection import KFold\n",
        "from sklearn.linear_model import LogisticRegression\n",
        "from sklearn.metrics import roc_auc_score\n",
        "import numpy as np\n",
        "\n",
        "# Assuming df_full_train is already loaded\n",
        "# We'll use df_train from earlier as df_full_train here for simplicity (replace with your actual data)\n",
        "X = df[numerical_columns]  # Features (excluding target column)\n",
        "y = df['converted']  # Target variable\n",
        "\n",
        "# Initialize KFold\n",
        "kf = KFold(n_splits=5, shuffle=True, random_state=1)\n",
        "\n",
        "# Initialize model\n",
        "model = LogisticRegression(solver='liblinear', C=1.0, max_iter=1000)\n",
        "\n",
        "# List to store AUC scores for each fold\n",
        "auc_scores = []\n",
        "\n",
        "# Iterate over KFold splits\n",
        "for train_index, val_index in kf.split(X):\n",
        "    X_train, X_val = X.iloc[train_index], X.iloc[val_index]\n",
        "    y_train, y_val = y.iloc[train_index], y.iloc[val_index]\n",
        "\n",
        "    # Train the model\n",
        "    model.fit(X_train, y_train)\n",
        "\n",
        "    # Predict probabilities on the validation set\n",
        "    y_prob = model.predict_proba(X_val)[:, 1]  # Probabilities for the positive class\n",
        "\n",
        "    # Compute AUC score for this fold\n",
        "    auc = roc_auc_score(y_val, y_prob)\n",
        "    auc_scores.append(auc)\n",
        "\n",
        "# Compute the standard deviation of AUC scores across folds\n",
        "std_auc = np.std(auc_scores)\n",
        "\n",
        "# Output the result\n",
        "print(f\"Standard deviation of AUC scores across folds: {std_auc:.4f}\")\n"
      ],
      "metadata": {
        "colab": {
          "base_uri": "https://localhost:8080/"
        },
        "id": "Jz_7zkaakrsn",
        "outputId": "99bedb5b-4678-4208-e7b9-7f2fc0109b0b"
      },
      "execution_count": 21,
      "outputs": [
        {
          "output_type": "stream",
          "name": "stdout",
          "text": [
            "Standard deviation of AUC scores across folds: 0.0277\n"
          ]
        }
      ]
    },
    {
      "cell_type": "code",
      "source": [
        "from sklearn.model_selection import KFold\n",
        "from sklearn.linear_model import LogisticRegression\n",
        "from sklearn.metrics import roc_auc_score\n",
        "import numpy as np\n",
        "\n",
        "# Assuming df_train is loaded\n",
        "X = df[numerical_columns]  # Features (excluding target column)\n",
        "y = df['converted']  # Target variable\n",
        "\n",
        "# Hyperparameter values for C\n",
        "C_values = [0.000001, 0.001, 1]\n",
        "\n",
        "# Initialize KFold\n",
        "kf = KFold(n_splits=5, shuffle=True, random_state=1)\n",
        "\n",
        "# Initialize a dictionary to store the mean and std of AUC for each C\n",
        "results = {}\n",
        "\n",
        "# Iterate over different C values\n",
        "for C in C_values:\n",
        "    auc_scores = []\n",
        "\n",
        "    # KFold cross-validation\n",
        "    for train_index, val_index in kf.split(X):\n",
        "        X_train, X_val = X.iloc[train_index], X.iloc[val_index]\n",
        "        y_train, y_val = y.iloc[train_index], y.iloc[val_index]\n",
        "\n",
        "        # Train the logistic regression model\n",
        "        model = LogisticRegression(solver='liblinear', C=C, max_iter=1000)\n",
        "        model.fit(X_train, y_train)\n",
        "\n",
        "        # Predict probabilities for the positive class\n",
        "        y_prob = model.predict_proba(X_val)[:, 1]\n",
        "\n",
        "        # Compute AUC score for the fold\n",
        "        auc = roc_auc_score(y_val, y_prob)\n",
        "        auc_scores.append(auc)\n",
        "\n",
        "    # Calculate mean and std of AUC for this value of C\n",
        "    mean_auc = np.mean(auc_scores)\n",
        "    std_auc = np.std(auc_scores)\n",
        "\n",
        "    # Store the results\n",
        "    results[C] = {'mean': round(mean_auc, 3), 'std': round(std_auc, 3)}\n",
        "\n",
        "# Output the results\n",
        "print(\"AUC Results (mean and std) for each C value:\")\n",
        "for C, result in results.items():\n",
        "    print(f\"C={C}: Mean AUC = {result['mean']}, Std AUC = {result['std']}\")\n",
        "\n",
        "# Find the best C based on the criteria\n",
        "best_C = min(results, key=lambda x: (results[x]['mean'], results[x]['std'], x))\n",
        "\n",
        "print(f\"\\nBest C value: {best_C} (Mean AUC: {results[best_C]['mean']}, Std AUC: {results[best_C]['std']})\")\n"
      ],
      "metadata": {
        "colab": {
          "base_uri": "https://localhost:8080/"
        },
        "id": "kR_kd02clBPQ",
        "outputId": "b0a34354-876a-4c25-ae8e-f9a67224d76e"
      },
      "execution_count": 23,
      "outputs": [
        {
          "output_type": "stream",
          "name": "stdout",
          "text": [
            "AUC Results (mean and std) for each C value:\n",
            "C=1e-06: Mean AUC = 0.549, Std AUC = 0.031\n",
            "C=0.001: Mean AUC = 0.853, Std AUC = 0.025\n",
            "C=1: Mean AUC = 0.807, Std AUC = 0.028\n",
            "\n",
            "Best C value: 1e-06 (Mean AUC: 0.549, Std AUC: 0.031)\n"
          ]
        }
      ]
    },
    {
      "cell_type": "code",
      "source": [],
      "metadata": {
        "id": "OLlRi2vvlXQd"
      },
      "execution_count": null,
      "outputs": []
    }
  ]
}